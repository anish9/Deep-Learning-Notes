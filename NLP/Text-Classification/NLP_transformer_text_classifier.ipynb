{
 "cells": [
  {
   "cell_type": "markdown",
   "id": "c91b2f57-00c7-44fb-a03b-a2685ab36660",
   "metadata": {},
   "source": [
    "<h1 style=\"color:orange;text-align:center;font-family:courier;font-size:280%\">Text Classification From Scratch Using Transformers</h1>\n",
    "<p style=\"color:orange;text-align:center;font-family:courier\"> The objective is to understand how to customize and build a transformer model from scratch and customizing it for text classification task.</p>\n",
    "\n",
    "### Objectives \n",
    "* Understand the theory and building blocks of NLP(Natural Language Processing Pipeline.\n",
    "* Generate a basic understanding of how to use Tensorflow Keras API for creating custom utilities.\n",
    "* Simplify the pedagogy of explaining NLP topics.\n",
    "* As an example we will use **Genre Classification** Dataset for the task containing 16 labels.\n",
    "<!-- * Though the code works there are significant drawbacks with yolov1 which has been addressed on YoloV2,YoloV3 -->\n",
    "\n",
    "\n",
    "<p style=\"text-align:center\"><img src=\"assets/movies.jpg\" alt=\"textcla\" width=\"540\"/>"
   ]
  },
  {
   "cell_type": "markdown",
   "id": "78733ed1-baa6-4b68-8b8e-e2ce925fe717",
   "metadata": {},
   "source": [
    "### Setup"
   ]
  },
  {
   "cell_type": "code",
   "execution_count": 1,
   "id": "5acf3078-fddb-4257-a89e-581e97be6103",
   "metadata": {},
   "outputs": [],
   "source": [
    "import tensorflow as tf\n",
    "from tensorflow.keras.callbacks import ModelCheckpoint\n",
    "\n",
    "import re\n",
    "import string\n",
    "import numpy as np\n",
    "import pandas as pd\n",
    "from collections import Counter\n",
    "import matplotlib.pyplot as plt\n",
    "from scipy.special import softmax\n",
    "from collections import defaultdict\n",
    "from sklearn.metrics import f1_score\n",
    "from sklearn.preprocessing import LabelEncoder\n",
    "\n",
    "%matplotlib inline"
   ]
  },
  {
   "cell_type": "markdown",
   "id": "31ac28ff-f3be-45b4-9678-195f21563bc7",
   "metadata": {},
   "source": [
    "### Importing Dataset and Applying pre-processing \n",
    "**Steps :**\n",
    "* Read the csv file \n",
    "* Overview of the process:\n",
    "  * Transform Text Information to Numerical Representation using **Text Vectorization** Layer.\n",
    "  * Transform Target Variable to Numerical encoding using **Lable Encoder**.\n",
    "  \n",
    "#### Reading CSV file and selecting required columns."
   ]
  },
  {
   "cell_type": "code",
   "execution_count": 2,
   "id": "05a07ceb-8ea4-4984-902a-9fdaf1a1fc6a",
   "metadata": {},
   "outputs": [],
   "source": [
    "dataset = pd.read_csv(\"movie_genre_dataset.csv\")\n",
    "dataset.dropna(axis=0,inplace=True)\n",
    "dataset.reset_index(drop=True,inplace=True)\n",
    "dataset = dataset[[\"genre\",\"plot\"]]"
   ]
  },
  {
   "cell_type": "markdown",
   "id": "3f9884cd-1683-4231-b955-0603c207e478",
   "metadata": {},
   "source": [
    "#### Encoder Target Columns and extract some informations for \"Text Vectorizer\" Layer"
   ]
  },
  {
   "cell_type": "code",
   "execution_count": 3,
   "id": "9d533cdb-f2f7-45a3-927b-04e193ef4c94",
   "metadata": {},
   "outputs": [],
   "source": [
    "genre_Encoder = LabelEncoder()\n",
    "dataset[\"genre\"] = genre_Encoder.fit_transform(dataset[\"genre\"])\n",
    "sentence_lengths =[len(list(set(dataset[\"plot\"][i].split()))) for i in range(dataset.shape[0])]\n",
    "MAX_SEQ_LENGTH = int(np.mean(sentence_lengths))\n",
    "MAX_TOKENS = sum(sentence_lengths)"
   ]
  },
  {
   "cell_type": "markdown",
   "id": "af982c3b-73da-4306-a44a-ae67b30fa5a8",
   "metadata": {},
   "source": [
    "#### Create a Text Vectorizer Layer and use Adapt method to Adapt to our dataset"
   ]
  },
  {
   "cell_type": "code",
   "execution_count": 4,
   "id": "3b5560e0-872c-45e9-8a70-62f21ec87e55",
   "metadata": {},
   "outputs": [],
   "source": [
    "vectorizer = tf.keras.layers.TextVectorization(max_tokens=MAX_TOKENS,output_mode=\"int\",\n",
    "                               output_sequence_length=MAX_SEQ_LENGTH)\n",
    "vectorizer.adapt(dataset[\"plot\"])"
   ]
  },
  {
   "cell_type": "markdown",
   "id": "dba532d8-0a7c-4e8d-a231-6a6585353306",
   "metadata": {},
   "source": [
    "#### Create train test splits "
   ]
  },
  {
   "cell_type": "code",
   "execution_count": 5,
   "id": "e6685446-ef7b-4310-ba53-dedfeda2af8b",
   "metadata": {},
   "outputs": [],
   "source": [
    "index = int(dataset.shape[0]*0.30)\n",
    "\n",
    "train_set =dataset.iloc[index:,:]\n",
    "test_set = dataset.iloc[-index:,:]\n",
    "\n",
    "X_train_set = tf.cast(vectorizer(train_set[\"plot\"]),tf.int32)\n",
    "X_test_set =  tf.cast(vectorizer(test_set[\"plot\"]),tf.int32)\n",
    "Y_train_set = tf.cast(train_set[\"genre\"],tf.int32)\n",
    "Y_test_set = tf.cast(test_set[\"genre\"],tf.int32)\n",
    "\n",
    "CLASSES=np.unique(Y_train_set).shape[0]\n"
   ]
  },
  {
   "cell_type": "markdown",
   "id": "6202e5e5-2201-4a24-916c-4181c9e0d92f",
   "metadata": {},
   "source": [
    "#### Build Dataset Pipeline"
   ]
  },
  {
   "cell_type": "code",
   "execution_count": 6,
   "id": "4f88afeb-e84f-42de-bc5b-343c2a1a26fd",
   "metadata": {},
   "outputs": [],
   "source": [
    "BATCH_SIZE=12\n",
    "VOCAB = vectorizer.vocabulary_size()\n",
    "EMBEDDING_SIZE= 256\n",
    "DENSE_DIM=512\n",
    "TRANSFORMER_HEADS = 4\n",
    "\n",
    "auto = tf.data.AUTOTUNE\n",
    "train_set = tf.data.Dataset.from_tensor_slices((X_train_set,Y_train_set))\n",
    "train_set = train_set.batch(BATCH_SIZE,drop_remainder=True).shuffle(2000).prefetch(auto).cache()\n",
    "\n",
    "test_set = tf.data.Dataset.from_tensor_slices((X_test_set,Y_test_set))\n",
    "test_set = test_set.batch(BATCH_SIZE).shuffle(2000)\n",
    "\n",
    "train_steps = X_train_set.shape[0]//BATCH_SIZE\n",
    "val_steps = X_test_set.shape[0]//BATCH_SIZE"
   ]
  },
  {
   "cell_type": "markdown",
   "id": "7d2a11f8-9516-4824-93c3-8165d8f7c898",
   "metadata": {},
   "source": [
    "### Building Model Pipeline\n",
    "\n",
    "### Building Classification Pipeline using Transformers is straightforward containing only two steps:\n",
    "   * Building Input Layer \n",
    "   * Building Embedding and Positional Encoding Layers.\n",
    "   * Building Transformers Multi headed Attention Layer.\n",
    "   * Building Classification Heads.\n",
    "  \n",
    "  \n",
    "### Building Positional Encoding Layer\n",
    "\n",
    "\n",
    "\n",
    "* why we need postional encoding?<br>\n",
    "  **Note :  Positional Encoding Can be ignored if text sequence meaning doesn't matter.**\n",
    "  <br>\n",
    "    Positinal Encoding Helps to Add positinal Information in our representation. By default when we train a RNN model for classification\n",
    "    tasks the RNN carries the positonal information naturally. RNN's are simply acts like a for loop, with every current context depends on the\n",
    "    previous context.\n",
    "    \n",
    "    * BELOW IS AN RNN EXAMPLE:\n",
    "    <p style=\"text-align:center\"><img src=\"assets/RNN.png\" alt=\"textcla\" width=\"340\"/><br>\n",
    "    <br>\n",
    "\n",
    "* We can use 1D Convolution for classification tasks which cannot carry Positional Information like RNN. But in our experiment we will exploit a Transformer based architecture which will keep positional context, for this design we will need to use positional encoding information added to our sequence.\n",
    "\n",
    "* How to create positional Encoding?\n",
    "    * simply adding a sequence of [1,2,3] to our embedding vector can form positional information which is called **Absolute Encoding** but we will implement a Positional Encoding layer defined in the paper <a href=\"https://arxiv.org/abs/1706.03762\">Attention is all you need</a> which is a relative form of encoding introduced by the authors.\n",
    "    * BELOW IS AN POSITIONAL ENCODE EXAMPLE FROM THE PAPER:\n",
    "    <p style=\"text-align:center\"><img src=\"assets/pos.jpg\" alt=\"textcla\" width=\"540\"/><br>\n",
    "    <br>"
   ]
  },
  {
   "cell_type": "code",
   "execution_count": 12,
   "id": "0d1d7df0-1d74-4228-a23f-f52a8e209f37",
   "metadata": {},
   "outputs": [],
   "source": [
    "class Postional_Encoding(tf.keras.layers.Layer):\n",
    "    def __init__(self,embedding_depth,vocab,sequence_length):\n",
    "        super(Postional_Encoding,self).__init__()\n",
    "        self.embedding_depth = embedding_depth\n",
    "        self.sequence_length = sequence_length\n",
    "        self.embed = tf.keras.layers.Embedding(vocab,embedding_depth)\n",
    "        \n",
    "    def call(self,data):\n",
    "        batch_dim = tf.shape(data)[0]\n",
    "        embeds = np.arange(self.embedding_depth)[np.newaxis,:]\n",
    "        embeds = 1 / np.power(10000, (2 * (embeds//2)) / np.float32(self.embedding_depth))\n",
    "        location_id = np.arange(self.sequence_length)[:,np.newaxis]\n",
    "        pos = embeds*location_id\n",
    "        pos[:,::2] = np.sin(pos[:,::2])\n",
    "        pos[:,1::2] = np.cos(pos[:,1::2])\n",
    "        pos = tf.tile(pos[tf.newaxis,:,:],(batch_dim,1,1))\n",
    "        pos = tf.cast(pos,tf.float32)\n",
    "        embed = self.embed(data)\n",
    "        return embed+pos \n",
    "\n",
    "    def compute_mask(self,data,mask=None):\n",
    "        return tf.not_equal(0,data)"
   ]
  },
  {
   "cell_type": "markdown",
   "id": "2e99b66e-1afa-41a4-92eb-371f440df3b4",
   "metadata": {},
   "source": [
    "### Implementing Transformer Layer\n",
    "In general in the paper **Attention is all you need** They have implemented and Encoder and Decoder considering a text to text sequence task like chatbot, machine translation but in our task of classification we don't need a decoder part, we will just use encoder and build a custom classification head on top of it\n",
    "\n",
    " <p style=\"text-align:center\"><img src=\"assets/multihead.png\" alt=\"textcla\" width=\"240\"/><br>\n",
    "    <br>\n",
    "    \n",
    "#### Key aspects of the Transformer layer design:\n",
    "* Utilize Multi-Headed Attention.\n",
    "* Make the layer as a mask consumer just by adding ```self.support_masking``` flag, The reason behind it is we want zeros to be masked and not included in any computation since they are just a dummy padded values.\n",
    "* Note : Mask consumer can automatically detect masks if the previous layer produces it .In our case positional encoding layer can produce it.\n"
   ]
  },
  {
   "cell_type": "code",
   "execution_count": 13,
   "id": "f1a0bbb0-fbf6-40a1-9e41-779a8772e778",
   "metadata": {},
   "outputs": [],
   "source": [
    "class Transformer_Encoder(tf.keras.layers.Layer):\n",
    "    def __init__(self,embedding_depth,dense_dim,heads=2,**kwargs):\n",
    "        super(Transformer_Encoder,self).__init__(**kwargs)\n",
    "        self.attention = tf.keras.layers.MultiHeadAttention(num_heads=heads,key_dim=embedding_depth)\n",
    "        self.dense_proj = tf.keras.Sequential([tf.keras.layers.Dense(dense_dim, activation=\"relu\"), \n",
    "                                               tf.keras.layers.Dense(embedding_depth),])\n",
    "        self.layernorm_1 = tf.keras.layers.LayerNormalization()\n",
    "        self.layernorm_2 = tf.keras.layers.LayerNormalization()\n",
    "        self.supports_masking = True\n",
    "        \n",
    "    def call(self,x,mask=None):\n",
    "        padding_mask = tf.cast(mask,tf.int64)[:,:,tf.newaxis]\n",
    "        attention_out = self.attention(x,x,x,attention_mask=padding_mask)\n",
    "        layernorm1 = self.layernorm_1(attention_out+x)\n",
    "        denseproj  = self.dense_proj(layernorm1)\n",
    "        layernorm2 = self.layernorm_2(denseproj+layernorm1)\n",
    "        return layernorm2"
   ]
  },
  {
   "cell_type": "markdown",
   "id": "4d5ebdd5-563f-4d73-9073-26deabd4054c",
   "metadata": {},
   "source": [
    "### Connecting all the pieces in a single model\n",
    "<p style=\"text-align:center\"><img src=\"assets/chain.png\" alt=\"textcla\" width=\"240\"/><br>\n",
    "<br>"
   ]
  },
  {
   "cell_type": "code",
   "execution_count": 9,
   "id": "bc36be00-51f2-47a3-bcb2-47bdc47e833c",
   "metadata": {},
   "outputs": [],
   "source": [
    "class Text_Classifier(tf.keras.models.Model):\n",
    "    def __init__(self,embedding_depth,vocab,seq_length,\n",
    "                 dense_depth,transformer_heads=2,labels=10):\n",
    "        super(Text_Classifier,self).__init__()\n",
    "        self.poslayer = Postional_Encoding(embedding_depth,vocab,seq_length)\n",
    "        self.transformer = Transformer_Encoder(embedding_depth,dense_depth,heads=transformer_heads)\n",
    "        self.classifier_head = tf.keras.Sequential([tf.keras.layers.GlobalAveragePooling1D(),\n",
    "                                   tf.keras.layers.Dense(labels,activation=\"softmax\")])\n",
    "\n",
    "    def call(self,x):\n",
    "        x = self.poslayer(x)\n",
    "        x = self.transformer(x)\n",
    "        x = self.classifier_head(x)\n",
    "        return x"
   ]
  },
  {
   "cell_type": "markdown",
   "id": "ece106a0-ee1e-4353-a1fb-a835324c5a7f",
   "metadata": {},
   "source": [
    "### Building, Compiling and Training "
   ]
  },
  {
   "cell_type": "code",
   "execution_count": 10,
   "id": "55aaedee-c4e1-4db9-9a63-29a0c48f08a7",
   "metadata": {},
   "outputs": [
    {
     "name": "stdout",
     "output_type": "stream",
     "text": [
      "Epoch 1/15\n",
      "2195/2195 [==============================] - 27s 11ms/step - loss: 2.1037 - acc: 0.3054 - val_loss: 1.8035 - val_acc: 0.3857\n",
      "Epoch 2/15\n",
      "2195/2195 [==============================] - 24s 11ms/step - loss: 1.7177 - acc: 0.4355 - val_loss: 1.5281 - val_acc: 0.5124\n",
      "Epoch 3/15\n",
      "2195/2195 [==============================] - 24s 11ms/step - loss: 1.4472 - acc: 0.5324 - val_loss: 1.2547 - val_acc: 0.6142\n",
      "Epoch 4/15\n",
      "2195/2195 [==============================] - 24s 11ms/step - loss: 1.1910 - acc: 0.6216 - val_loss: 1.0372 - val_acc: 0.6742\n",
      "Epoch 5/15\n",
      "2195/2195 [==============================] - 25s 11ms/step - loss: 0.9625 - acc: 0.6945 - val_loss: 0.8724 - val_acc: 0.7226\n",
      "Epoch 6/15\n",
      "2195/2195 [==============================] - 25s 11ms/step - loss: 0.7619 - acc: 0.7573 - val_loss: 0.7058 - val_acc: 0.7725\n",
      "Epoch 7/15\n",
      "2195/2195 [==============================] - 25s 11ms/step - loss: 0.6123 - acc: 0.8068 - val_loss: 0.6068 - val_acc: 0.7983\n",
      "Epoch 8/15\n",
      "2195/2195 [==============================] - 25s 11ms/step - loss: 0.5081 - acc: 0.8383 - val_loss: 0.4842 - val_acc: 0.8398\n",
      "Epoch 9/15\n",
      "2195/2195 [==============================] - 24s 11ms/step - loss: 0.4266 - acc: 0.8629 - val_loss: 0.4302 - val_acc: 0.8604\n",
      "Epoch 10/15\n",
      "2195/2195 [==============================] - 25s 11ms/step - loss: 0.3558 - acc: 0.8877 - val_loss: 0.3685 - val_acc: 0.8768\n",
      "Epoch 11/15\n",
      "2195/2195 [==============================] - 25s 11ms/step - loss: 0.3193 - acc: 0.8970 - val_loss: 0.3427 - val_acc: 0.8869\n",
      "Epoch 12/15\n",
      "2195/2195 [==============================] - 25s 11ms/step - loss: 0.2725 - acc: 0.9115 - val_loss: 0.3726 - val_acc: 0.8827\n",
      "Epoch 13/15\n",
      "2195/2195 [==============================] - 24s 11ms/step - loss: 0.2339 - acc: 0.9222 - val_loss: 0.3589 - val_acc: 0.8844\n",
      "Epoch 14/15\n",
      "2195/2195 [==============================] - 24s 11ms/step - loss: 0.2083 - acc: 0.9314 - val_loss: 0.2848 - val_acc: 0.9081\n",
      "Epoch 15/15\n",
      "2195/2195 [==============================] - 25s 11ms/step - loss: 0.1775 - acc: 0.9415 - val_loss: 0.2369 - val_acc: 0.9221\n"
     ]
    }
   ],
   "source": [
    "custom_classifier = Text_Classifier(embedding_depth=EMBEDDING_SIZE,vocab=VOCAB,\n",
    "                         seq_length=MAX_SEQ_LENGTH,dense_depth=DENSE_DIM,\n",
    "                         transformer_heads=TRANSFORMER_HEADS,\n",
    "                         labels=CLASSES)\n",
    "custom_classifier.compile(optimizer=\"Nadam\",loss=\"sparse_categorical_crossentropy\",metrics=[\"acc\"])\n",
    "ckpt = ModelCheckpoint(\"genre_Weights/classifier\",save_best_only=True,save_weights_only=True,monitor='val_loss',mode='min')\n",
    "\n",
    "history=custom_classifier.fit(train_set,batch_size=BATCH_SIZE,validation_data=test_set,\n",
    "           steps_per_epoch=train_steps,validation_steps=val_steps,epochs=15,callbacks=[ckpt])"
   ]
  },
  {
   "cell_type": "markdown",
   "id": "bec1b806-7da4-45d9-9962-c43aa630324e",
   "metadata": {},
   "source": [
    "### Model Logs and Performance Interpretation\n",
    "* We will use F1 score as a metric to evaluate classification performance"
   ]
  },
  {
   "cell_type": "code",
   "execution_count": 11,
   "id": "0d13eadd-d1c9-408c-b4c3-3a4915eecc22",
   "metadata": {},
   "outputs": [
    {
     "name": "stdout",
     "output_type": "stream",
     "text": [
      "F1 score of the model : 0.9220937568044737\n"
     ]
    },
    {
     "data": {
      "image/png": "[encoded data removed]",
      "text/plain": [
       "<Figure size 1296x360 with 2 Axes>"
      ]
     },
     "metadata": {
      "needs_background": "light"
     },
     "output_type": "display_data"
    }
   ],
   "source": [
    "fig,ax = plt.subplots(1,2,figsize=(18,5))\n",
    "ax[0].plot(history.history[\"loss\"],label=\"Train_loss\")\n",
    "ax[0].plot(history.history[\"val_loss\"],label=\"Val_loss\")\n",
    "ax[0].legend()\n",
    "\n",
    "ax[1].plot(history.history[\"acc\"],label=\"Train_accuracy\")\n",
    "ax[1].plot(history.history[\"val_acc\"],label=\"Val_accuracy\")\n",
    "ax[1].legend()\n",
    "\n",
    "# predict on validation set\n",
    "predictions = tf.argmax(custom_classifier.predict(X_test_set),axis=1)\n",
    "F1_SCORE = f1_score(Y_test_set.numpy(),predictions.numpy(),average='weighted')\n",
    "\n",
    "print(f\"F1 score of the model : {F1_SCORE}\")"
   ]
  }
 ],
 "metadata": {
  "kernelspec": {
   "display_name": "tf2.5",
   "language": "python",
   "name": "tf2.5"
  },
  "language_info": {
   "codemirror_mode": {
    "name": "ipython",
    "version": 3
   },
   "file_extension": ".py",
   "mimetype": "text/x-python",
   "name": "python",
   "nbconvert_exporter": "python",
   "pygments_lexer": "ipython3",
   "version": "3.6.9"
  }
 },
 "nbformat": 4,
 "nbformat_minor": 5
}
