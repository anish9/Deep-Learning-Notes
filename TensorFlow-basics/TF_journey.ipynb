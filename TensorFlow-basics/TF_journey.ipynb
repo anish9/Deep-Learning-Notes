{
 "cells": [
  {
   "cell_type": "markdown",
   "id": "3fedce26-db1e-465e-9155-a5d719f61ff4",
   "metadata": {},
   "source": [
    "<h1 style=\"color:coral;text-align:center;font-family:courier;font-size:280%\">Tensoflow Basics</h1>\n",
    "<p style=\"color:orange;text-align:center;font-family:courier\"> The objective is to understand some tensorflow ops</p>\n",
    "<p style=\"text-align:center\"><img src=\"assets/Tensorflow.jpg\" alt=\"yolov1\" width=\"420\"/>\n",
   ]
  },
  {
   "cell_type": "markdown",
   "id": "100374e1-562a-4c6a-a3c1-14245796e9f0",
   "metadata": {},
   "source": [
    "#### Basics\n",
    "* Importing library\n",
    "* Testing devices"
   ]
  },
  {
   "cell_type": "code",
   "execution_count": 72,
   "id": "14b888cb-2ac5-49d1-b3ab-6aa047b7e20a",
   "metadata": {},
   "outputs": [
    {
     "name": "stdout",
     "output_type": "stream",
     "text": [
      "Tensorflow Version : 2.6.0\n",
      "GPU detected\n"
     ]
    }
   ],
   "source": [
    "import numpy as np\n",
    "import tensorflow as tf\n",
    "from pprint import pprint\n",
    "\n",
    "print(f'Tensorflow Version : {tf.__version__}')\n",
    "\n",
    "if tf.config.list_physical_devices('GPU'):\n",
    "    print(\"GPU detected\")"
   ]
  },
  {
   "cell_type": "markdown",
   "id": "316923b7-7215-457d-94c9-9527b03cdffe",
   "metadata": {},
   "source": [
    "### Array creation using Numpy and Tensorflow"
   ]
  },
  {
   "cell_type": "code",
   "execution_count": 73,
   "id": "7a362047-f81d-4f20-b2e8-09a67d562441",
   "metadata": {},
   "outputs": [],
   "source": [
    "np_x = np.ones((3,3))\n",
    "tf_x = tf.ones((3,3))"
   ]
  },
  {
   "cell_type": "markdown",
   "id": "75f2874d-f14a-41c4-87f4-d944ceb154a7",
   "metadata": {},
   "source": [
    "#### Insights in a nutshell \n",
    "* Tensors are immutable.\n",
    "* TensorFlow automatically converts Numpy array to Tensor type.\n",
    "* But, if the operation changes between devices, example : CPU or GPU, a copy is made and then the follwing happens."
   ]
  },
  {
   "cell_type": "code",
   "execution_count": 74,
   "id": "5d70b651-0272-4ea4-8531-ac5d9e815687",
   "metadata": {},
   "outputs": [],
   "source": [
    "var1 = tf.Variable(initial_value=np_x) #example passed np is automatically consumed and converted to TF tensor"
   ]
  },
  {
   "cell_type": "markdown",
   "id": "91109b5e-9923-45f8-bdb9-3649190329b6",
   "metadata": {},
   "source": [
    "#### Computing Gradients"
   ]
  },
  {
   "cell_type": "code",
   "execution_count": 75,
   "id": "9a44c151-59a5-4062-af62-8aa26aa355e2",
   "metadata": {},
   "outputs": [
    {
     "name": "stdout",
     "output_type": "stream",
     "text": [
      "'Gradient : [[3. 3. 3.]\\n [3. 3. 3.]\\n [3. 3. 3.]]'\n"
     ]
    }
   ],
   "source": [
    "input_ = tf.Variable(tf.ones((3,3),dtype=tf.float32)*3)\n",
    "with tf.GradientTape() as t:\n",
    "    ops = input_*3\n",
    "gradient = t.gradient(ops,input_)\n",
    "\n",
    "pprint(f\"Gradient : {gradient}\")"
   ]
  },
  {
   "cell_type": "code",
   "execution_count": 76,
   "id": "ba4833bd-35a6-400a-9b96-36a837b9ecf7",
   "metadata": {},
   "outputs": [],
   "source": [
    "### To be added !!!"
   ]
  }
 ],
 "metadata": {
  "kernelspec": {
   "display_name": "tf2.5",
   "language": "python",
   "name": "tf2.5"
  },
  "language_info": {
   "codemirror_mode": {
    "name": "ipython",
    "version": 3
   },
   "file_extension": ".py",
   "mimetype": "text/x-python",
   "name": "python",
   "nbconvert_exporter": "python",
   "pygments_lexer": "ipython3",
   "version": "3.6.9"
  }
 },
 "nbformat": 4,
 "nbformat_minor": 5
}
