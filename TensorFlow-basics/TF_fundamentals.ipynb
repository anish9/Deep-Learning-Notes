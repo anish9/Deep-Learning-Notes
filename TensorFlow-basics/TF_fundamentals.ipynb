{
 "cells": [
  {
   "cell_type": "markdown",
   "id": "100374e1-562a-4c6a-a3c1-14245796e9f0",
   "metadata": {},
   "source": [
    "# Tensorflow Basics "
   ]
  },
  {
   "cell_type": "markdown",
   "id": "117faa7b-072a-4135-bf5c-74576508bccb",
   "metadata": {},
   "source": [
    "#### Basics\n",
    "* Importing library\n",
    "* Testing devices"
   ]
  },
  {
   "cell_type": "code",
   "execution_count": 2,
   "id": "14b888cb-2ac5-49d1-b3ab-6aa047b7e20a",
   "metadata": {},
   "outputs": [
    {
     "name": "stdout",
     "output_type": "stream",
     "text": [
      "Tensorflow Version : 2.6.0\n",
      "GPU detected\n"
     ]
    }
   ],
   "source": [
    "import numpy as np\n",
    "import tensorflow as tf\n",
    "from pprint import pprint\n",
    "\n",
    "print(f'Tensorflow Version : {tf.__version__}')\n",
    "\n",
    "if tf.config.list_physical_devices('GPU'):\n",
    "    print(\"GPU detected\")"
   ]
  },
  {
   "cell_type": "markdown",
   "id": "316923b7-7215-457d-94c9-9527b03cdffe",
   "metadata": {},
   "source": [
    "### Array creation using Numpy and Tensorflow"
   ]
  },
  {
   "cell_type": "code",
   "execution_count": 3,
   "id": "7a362047-f81d-4f20-b2e8-09a67d562441",
   "metadata": {},
   "outputs": [],
   "source": [
    "np_x = np.ones((3,3))\n",
    "tf_x = tf.ones((3,3))"
   ]
  },
  {
   "cell_type": "markdown",
   "id": "75f2874d-f14a-41c4-87f4-d944ceb154a7",
   "metadata": {},
   "source": [
    "#### Insights in a nutshell \n",
    "* Tensors are immutable.\n",
    "* TensorFlow automatically converts Numpy array to Tensor type.\n",
    "* But, if the operation changes between devices, example : CPU or GPU, a copy is made and then the follwing happens."
   ]
  },
  {
   "cell_type": "code",
   "execution_count": 4,
   "id": "5d70b651-0272-4ea4-8531-ac5d9e815687",
   "metadata": {},
   "outputs": [],
   "source": [
    "var1 = tf.Variable(initial_value=np_x) #example passed np is automatically consumed and converted to TF tensor"
   ]
  },
  {
   "cell_type": "markdown",
   "id": "91109b5e-9923-45f8-bdb9-3649190329b6",
   "metadata": {},
   "source": [
    "#### Computing Gradients"
   ]
  },
  {
   "cell_type": "code",
   "execution_count": 5,
   "id": "9a44c151-59a5-4062-af62-8aa26aa355e2",
   "metadata": {},
   "outputs": [
    {
     "name": "stdout",
     "output_type": "stream",
     "text": [
      "'Gradient : [[3. 3. 3.]\\n [3. 3. 3.]\\n [3. 3. 3.]]'\n"
     ]
    }
   ],
   "source": [
    "input_ = tf.Variable(tf.ones((3,3),dtype=tf.float32)*3)\n",
    "with tf.GradientTape() as t:\n",
    "    ops = input_*3\n",
    "gradient = t.gradient(ops,input_)\n",
    "\n",
    "pprint(f\"Gradient : {gradient}\")"
   ]
  },
  {
   "cell_type": "markdown",
   "id": "3684ce02-5146-4a9b-bea5-14150ff8dc4a",
   "metadata": {},
   "source": [
    "#### Creating custom Layer\n",
    "#### Keypoints to note when playing with custom layers:\n",
    "\n",
    "* Method of creating weights (Trainable and Non-Trainable variables).\n",
    "* Updating get_config method to make the layer serializable.\n",
    "* * The below method is better if incoming input shape is unknown.\n",
    "* * Use build method to construct weights or any variables and call method for computation."
   ]
  },
  {
   "cell_type": "code",
   "execution_count": 6,
   "id": "b46294fd-adb9-44ff-9e06-f61dd2dcc69c",
   "metadata": {},
   "outputs": [],
   "source": [
    "class SimpleLayer(tf.keras.layers.Layer):\n",
    "    def __init__(self,units,name):\n",
    "        self.units = units\n",
    "        super(SimpleLayer,self).__init__(name=name)\n",
    "        \n",
    "    def build(self,input_shape):\n",
    "        self.w = self.add_weight(shape=(input_shape[-1],self.units),initializer=\"random_normal\",trainable=True)\n",
    "        self.b = self.add_weight(shape=(self.units,),initializer=\"random_normal\",trainable=True)\n",
    "        \n",
    "    def call(self,inputs):\n",
    "        return tf.matmul(inputs, self.w) + self.b\n",
    "    \n",
    "    def get_config(self):\n",
    "        config = super(SimpleLayer, self).get_config()\n",
    "        config.update({\"units\":self.units})\n",
    "        return config"
   ]
  },
  {
   "cell_type": "markdown",
   "id": "9db40371-c861-4dbd-8248-7b105225f3d2",
   "metadata": {},
   "source": [
    "#### Execution of layers"
   ]
  },
  {
   "cell_type": "code",
   "execution_count": 7,
   "id": "587b098f-1cb3-41c7-93e7-bff8551b3c9d",
   "metadata": {},
   "outputs": [
    {
     "name": "stdout",
     "output_type": "stream",
     "text": [
      "input_matrix shape : (2, 4)\n",
      "output_matrix shape : (2, 10)\n"
     ]
    }
   ],
   "source": [
    "layer = SimpleLayer(units=10,name=\"layer1\")\n",
    "input_matrix = tf.ones(shape=(2,4))\n",
    "output_matrix = layer(input_matrix)\n",
    "print(f\"input_matrix shape : {input_matrix.shape}\")\n",
    "print(f\"output_matrix shape : {output_matrix.shape}\")"
   ]
  },
  {
   "cell_type": "markdown",
   "id": "301091e9-0ffa-45e8-a0c5-30ccee3185b4",
   "metadata": {},
   "source": [
    "#### Creating simple mask generating and consuming layers."
   ]
  },
  {
   "cell_type": "code",
   "execution_count": 9,
   "id": "02d63489-b937-47a2-a3b6-4b8569fd2cd3",
   "metadata": {},
   "outputs": [],
   "source": [
    "class Custom_mask_gen_layer(tf.keras.layers.Layer):\n",
    "    def __init__(self,neurons,**kwargs):\n",
    "        super(Custom_mask_gen_layer,self).__init__(**kwargs)\n",
    "        \n",
    "        self.dense_layer = layers.Dense(neurons)\n",
    "        \n",
    "    def call(self,x):\n",
    "        return self.dense_layer(x)\n",
    "    \n",
    "    \n",
    "    def compute_mask(self,x,mask):\n",
    "        return x!=2\n",
    "    \n",
    "    \n",
    "class Custom_mask_consume_layer(tf.keras.layers.Layer):\n",
    "    def __init__(self,neurons,**kwargs):\n",
    "        super(Custom_mask_consume_layer,self).__init__(**kwargs)\n",
    "        \n",
    "        self.dense_layer = layers.Dense(neurons)\n",
    "        self.supports_masking = True\n",
    "        \n",
    "    def call(self,x,mask=None):\n",
    "        if mask is not None:\n",
    "            print(tf.cast(mask,tf.int32))\n",
    "        return self.dense_layer(x)"
   ]
  },
  {
   "cell_type": "markdown",
   "id": "37a6ebae-8e43-433f-8090-6fdf3044dd33",
   "metadata": {},
   "source": [
    "#### Demo on chaining layers to encapsulate single model"
   ]
  },
  {
   "cell_type": "code",
   "execution_count": null,
   "id": "57a3bb77-f1e5-4f2e-80c6-a31341f5afd0",
   "metadata": {},
   "outputs": [],
   "source": [
    "Input_Node1 = layers.Input(shape=(8,))\n",
    "layer1 = Custom_mask_gen_layer(8)(Input_Node1)\n",
    "layer2 = Custom_mask_consume_layer(8)(layer1)\n",
    "child1 = tf.keras.Model(Input_Node1,layer2)\n",
    "\n",
    "Input_Node2 = layers.Input(shape=(8,))\n",
    "Input_Node2_2 = layers.Input(shape=(8,))\n",
    "x1 = Custom_mask_gen_layer(8)(Input_Node2)\n",
    "x2 = Custom_mask_gen_layer(8)(Input_Node2_2)\n",
    "x = x1+x2\n",
    "x = Custom_mask_consume_layer(8)(x)\n",
    "child2 = tf.keras.Model((Input_Node2,Input_Node2_2),x)\n",
    "\n",
    "child2_out = child2((Input_Node2,layer2))\n",
    "CHAIN_MODEL = tf.keras.Model((Input_Node1,Input_Node2),child2_out)"
   ]
  }
 ],
 "metadata": {
  "kernelspec": {
   "display_name": "tf2.5",
   "language": "python",
   "name": "tf2.5"
  },
  "language_info": {
   "codemirror_mode": {
    "name": "ipython",
    "version": 3
   },
   "file_extension": ".py",
   "mimetype": "text/x-python",
   "name": "python",
   "nbconvert_exporter": "python",
   "pygments_lexer": "ipython3",
   "version": "3.6.9"
  }
 },
 "nbformat": 4,
 "nbformat_minor": 5
}
